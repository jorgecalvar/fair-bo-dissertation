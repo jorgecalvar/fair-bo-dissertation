{
 "cells": [
  {
   "cell_type": "code",
   "execution_count": 1,
   "metadata": {
    "collapsed": true
   },
   "outputs": [],
   "source": [
    "import pandas as pd\n",
    "import numpy as np"
   ]
  },
  {
   "cell_type": "markdown",
   "source": [
    "### Process *Communities and Crime* dataset"
   ],
   "metadata": {
    "collapsed": false
   }
  },
  {
   "cell_type": "code",
   "execution_count": 23,
   "outputs": [],
   "source": [
    "columns = ['state',\n",
    "           'county',\n",
    "           'community',\n",
    "           'communityname',\n",
    "           'fold',\n",
    "           'population',\n",
    "           'householdsize',\n",
    "           'racepctblack',\n",
    "           'racePctWhite',\n",
    "           'racePctAsian',\n",
    "           'racePctHisp',\n",
    "           'agePct12t21',\n",
    "           'agePct12t29',\n",
    "           'agePct16t24',\n",
    "           'agePct65up',\n",
    "           'numbUrban',\n",
    "           'pctUrban',\n",
    "           'medIncome',\n",
    "           'pctWWage',\n",
    "           'pctWFarmSelf',\n",
    "           'pctWInvInc',\n",
    "           'pctWSocSec',\n",
    "           'pctWPubAsst',\n",
    "           'pctWRetire',\n",
    "           'medFamInc',\n",
    "           'perCapInc',\n",
    "           'whitePerCap',\n",
    "           'blackPerCap',\n",
    "           'indianPerCap',\n",
    "           'AsianPerCap',\n",
    "           'OtherPerCap',\n",
    "           'HispPerCap',\n",
    "           'NumUnderPov',\n",
    "           'PctPopUnderPov',\n",
    "           'PctLess9thGrade',\n",
    "           'PctNotHSGrad',\n",
    "           'PctBSorMore',\n",
    "           'PctUnemployed',\n",
    "           'PctEmploy',\n",
    "           'PctEmplManu',\n",
    "           'PctEmplProfServ',\n",
    "           'PctOccupManu',\n",
    "           'PctOccupMgmtProf',\n",
    "           'MalePctDivorce',\n",
    "           'MalePctNevMarr',\n",
    "           'FemalePctDiv',\n",
    "           'TotalPctDiv',\n",
    "           'PersPerFam',\n",
    "           'PctFam2Par',\n",
    "           'PctKids2Par',\n",
    "           'PctYoungKids2Par',\n",
    "           'PctTeen2Par',\n",
    "           'PctWorkMomYoungKids',\n",
    "           'PctWorkMom',\n",
    "           'NumIlleg',\n",
    "           'PctIlleg',\n",
    "           'NumImmig',\n",
    "           'PctImmigRecent',\n",
    "           'PctImmigRec5',\n",
    "           'PctImmigRec8',\n",
    "           'PctImmigRec10',\n",
    "           'PctRecentImmig',\n",
    "           'PctRecImmig5',\n",
    "           'PctRecImmig8',\n",
    "           'PctRecImmig10',\n",
    "           'PctSpeakEnglOnly',\n",
    "           'PctNotSpeakEnglWell',\n",
    "           'PctLargHouseFam',\n",
    "           'PctLargHouseOccup',\n",
    "           'PersPerOccupHous',\n",
    "           'PersPerOwnOccHous',\n",
    "           'PersPerRentOccHous',\n",
    "           'PctPersOwnOccup',\n",
    "           'PctPersDenseHous',\n",
    "           'PctHousLess3BR',\n",
    "           'MedNumBR',\n",
    "           'HousVacant',\n",
    "           'PctHousOccup',\n",
    "           'PctHousOwnOcc',\n",
    "           'PctVacantBoarded',\n",
    "           'PctVacMore6Mos',\n",
    "           'MedYrHousBuilt',\n",
    "           'PctHousNoPhone',\n",
    "           'PctWOFullPlumb',\n",
    "           'OwnOccLowQuart',\n",
    "           'OwnOccMedVal',\n",
    "           'OwnOccHiQuart',\n",
    "           'RentLowQ',\n",
    "           'RentMedian',\n",
    "           'RentHighQ',\n",
    "           'MedRent',\n",
    "           'MedRentPctHousInc',\n",
    "           'MedOwnCostPctInc',\n",
    "           'MedOwnCostPctIncNoMtg',\n",
    "           'NumInShelters',\n",
    "           'NumStreet',\n",
    "           'PctForeignBorn',\n",
    "           'PctBornSameState',\n",
    "           'PctSameHouse85',\n",
    "           'PctSameCity85',\n",
    "           'PctSameState85',\n",
    "           'LemasSwornFT',\n",
    "           'LemasSwFTPerPop',\n",
    "           'LemasSwFTFieldOps',\n",
    "           'LemasSwFTFieldPerPop',\n",
    "           'LemasTotalReq',\n",
    "           'LemasTotReqPerPop',\n",
    "           'PolicReqPerOffic',\n",
    "           'PolicPerPop',\n",
    "           'RacialMatchCommPol',\n",
    "           'PctPolicWhite',\n",
    "           'PctPolicBlack',\n",
    "           'PctPolicHisp',\n",
    "           'PctPolicAsian',\n",
    "           'PctPolicMinor',\n",
    "           'OfficAssgnDrugUnits',\n",
    "           'NumKindsDrugsSeiz',\n",
    "           'PolicAveOTWorked',\n",
    "           'LandArea',\n",
    "           'PopDens',\n",
    "           'PctUsePubTrans',\n",
    "           'PolicCars',\n",
    "           'PolicOperBudg',\n",
    "           'LemasPctPolicOnPatr',\n",
    "           'LemasGangUnitDeploy',\n",
    "           'LemasPctOfficDrugUn',\n",
    "           'PolicBudgPerPop',\n",
    "           'ViolentCrimesPerPop']"
   ],
   "metadata": {
    "collapsed": false
   }
  },
  {
   "cell_type": "code",
   "execution_count": 24,
   "outputs": [],
   "source": [
    "df = pd.read_csv('../data/communities-crime/communities.data', names=columns, sep=',')\n",
    "df = df.applymap(lambda x: np.nan if x == '?' else x)"
   ],
   "metadata": {
    "collapsed": false
   }
  },
  {
   "cell_type": "code",
   "execution_count": 25,
   "outputs": [
    {
     "data": {
      "text/plain": "['county',\n 'community',\n 'OtherPerCap',\n 'LemasSwornFT',\n 'LemasSwFTPerPop',\n 'LemasSwFTFieldOps',\n 'LemasSwFTFieldPerPop',\n 'LemasTotalReq',\n 'LemasTotReqPerPop',\n 'PolicReqPerOffic',\n 'PolicPerPop',\n 'RacialMatchCommPol',\n 'PctPolicWhite',\n 'PctPolicBlack',\n 'PctPolicHisp',\n 'PctPolicAsian',\n 'PctPolicMinor',\n 'OfficAssgnDrugUnits',\n 'NumKindsDrugsSeiz',\n 'PolicAveOTWorked',\n 'PolicCars',\n 'PolicOperBudg',\n 'LemasPctPolicOnPatr',\n 'LemasGangUnitDeploy',\n 'PolicBudgPerPop',\n 'fold',\n 'county',\n 'community',\n 'communityname',\n 'state']"
     },
     "execution_count": 25,
     "metadata": {},
     "output_type": "execute_result"
    }
   ],
   "source": [
    "columns_with_nan = list(df.columns[df.isna().any()])\n",
    "columns_to_remove = columns_with_nan + ['fold', 'county', 'community', 'communityname', 'state']\n",
    "columns_to_remove"
   ],
   "metadata": {
    "collapsed": false
   }
  },
  {
   "cell_type": "code",
   "execution_count": 26,
   "outputs": [],
   "source": [
    "df = df.drop(columns=columns_to_remove)"
   ],
   "metadata": {
    "collapsed": false
   }
  },
  {
   "cell_type": "code",
   "execution_count": 27,
   "outputs": [
    {
     "data": {
      "text/plain": "   population  householdsize  racepctblack  racePctWhite  racePctAsian  \\\n0        0.19           0.33          0.02          0.90          0.12   \n1        0.00           0.16          0.12          0.74          0.45   \n2        0.00           0.42          0.49          0.56          0.17   \n3        0.04           0.77          1.00          0.08          0.12   \n4        0.01           0.55          0.02          0.95          0.09   \n\n   racePctHisp  agePct12t21  agePct12t29  agePct16t24  agePct65up  ...  \\\n0         0.17         0.34         0.47         0.29        0.32  ...   \n1         0.07         0.26         0.59         0.35        0.27  ...   \n2         0.04         0.39         0.47         0.28        0.32  ...   \n3         0.10         0.51         0.50         0.34        0.21  ...   \n4         0.05         0.38         0.38         0.23        0.36  ...   \n\n   PctForeignBorn  PctBornSameState  PctSameHouse85  PctSameCity85  \\\n0            0.12              0.42            0.50           0.51   \n1            0.21              0.50            0.34           0.60   \n2            0.14              0.49            0.54           0.67   \n3            0.19              0.30            0.73           0.64   \n4            0.11              0.72            0.64           0.61   \n\n   PctSameState85  LandArea  PopDens  PctUsePubTrans  LemasPctOfficDrugUn  \\\n0            0.64      0.12     0.26            0.20                 0.32   \n1            0.52      0.02     0.12            0.45                 0.00   \n2            0.56      0.01     0.21            0.02                 0.00   \n3            0.65      0.02     0.39            0.28                 0.00   \n4            0.53      0.04     0.09            0.02                 0.00   \n\n   ViolentCrimesPerPop  \n0                 0.20  \n1                 0.67  \n2                 0.43  \n3                 0.12  \n4                 0.03  \n\n[5 rows x 100 columns]",
      "text/html": "<div>\n<style scoped>\n    .dataframe tbody tr th:only-of-type {\n        vertical-align: middle;\n    }\n\n    .dataframe tbody tr th {\n        vertical-align: top;\n    }\n\n    .dataframe thead th {\n        text-align: right;\n    }\n</style>\n<table border=\"1\" class=\"dataframe\">\n  <thead>\n    <tr style=\"text-align: right;\">\n      <th></th>\n      <th>population</th>\n      <th>householdsize</th>\n      <th>racepctblack</th>\n      <th>racePctWhite</th>\n      <th>racePctAsian</th>\n      <th>racePctHisp</th>\n      <th>agePct12t21</th>\n      <th>agePct12t29</th>\n      <th>agePct16t24</th>\n      <th>agePct65up</th>\n      <th>...</th>\n      <th>PctForeignBorn</th>\n      <th>PctBornSameState</th>\n      <th>PctSameHouse85</th>\n      <th>PctSameCity85</th>\n      <th>PctSameState85</th>\n      <th>LandArea</th>\n      <th>PopDens</th>\n      <th>PctUsePubTrans</th>\n      <th>LemasPctOfficDrugUn</th>\n      <th>ViolentCrimesPerPop</th>\n    </tr>\n  </thead>\n  <tbody>\n    <tr>\n      <th>0</th>\n      <td>0.19</td>\n      <td>0.33</td>\n      <td>0.02</td>\n      <td>0.90</td>\n      <td>0.12</td>\n      <td>0.17</td>\n      <td>0.34</td>\n      <td>0.47</td>\n      <td>0.29</td>\n      <td>0.32</td>\n      <td>...</td>\n      <td>0.12</td>\n      <td>0.42</td>\n      <td>0.50</td>\n      <td>0.51</td>\n      <td>0.64</td>\n      <td>0.12</td>\n      <td>0.26</td>\n      <td>0.20</td>\n      <td>0.32</td>\n      <td>0.20</td>\n    </tr>\n    <tr>\n      <th>1</th>\n      <td>0.00</td>\n      <td>0.16</td>\n      <td>0.12</td>\n      <td>0.74</td>\n      <td>0.45</td>\n      <td>0.07</td>\n      <td>0.26</td>\n      <td>0.59</td>\n      <td>0.35</td>\n      <td>0.27</td>\n      <td>...</td>\n      <td>0.21</td>\n      <td>0.50</td>\n      <td>0.34</td>\n      <td>0.60</td>\n      <td>0.52</td>\n      <td>0.02</td>\n      <td>0.12</td>\n      <td>0.45</td>\n      <td>0.00</td>\n      <td>0.67</td>\n    </tr>\n    <tr>\n      <th>2</th>\n      <td>0.00</td>\n      <td>0.42</td>\n      <td>0.49</td>\n      <td>0.56</td>\n      <td>0.17</td>\n      <td>0.04</td>\n      <td>0.39</td>\n      <td>0.47</td>\n      <td>0.28</td>\n      <td>0.32</td>\n      <td>...</td>\n      <td>0.14</td>\n      <td>0.49</td>\n      <td>0.54</td>\n      <td>0.67</td>\n      <td>0.56</td>\n      <td>0.01</td>\n      <td>0.21</td>\n      <td>0.02</td>\n      <td>0.00</td>\n      <td>0.43</td>\n    </tr>\n    <tr>\n      <th>3</th>\n      <td>0.04</td>\n      <td>0.77</td>\n      <td>1.00</td>\n      <td>0.08</td>\n      <td>0.12</td>\n      <td>0.10</td>\n      <td>0.51</td>\n      <td>0.50</td>\n      <td>0.34</td>\n      <td>0.21</td>\n      <td>...</td>\n      <td>0.19</td>\n      <td>0.30</td>\n      <td>0.73</td>\n      <td>0.64</td>\n      <td>0.65</td>\n      <td>0.02</td>\n      <td>0.39</td>\n      <td>0.28</td>\n      <td>0.00</td>\n      <td>0.12</td>\n    </tr>\n    <tr>\n      <th>4</th>\n      <td>0.01</td>\n      <td>0.55</td>\n      <td>0.02</td>\n      <td>0.95</td>\n      <td>0.09</td>\n      <td>0.05</td>\n      <td>0.38</td>\n      <td>0.38</td>\n      <td>0.23</td>\n      <td>0.36</td>\n      <td>...</td>\n      <td>0.11</td>\n      <td>0.72</td>\n      <td>0.64</td>\n      <td>0.61</td>\n      <td>0.53</td>\n      <td>0.04</td>\n      <td>0.09</td>\n      <td>0.02</td>\n      <td>0.00</td>\n      <td>0.03</td>\n    </tr>\n  </tbody>\n</table>\n<p>5 rows × 100 columns</p>\n</div>"
     },
     "execution_count": 27,
     "metadata": {},
     "output_type": "execute_result"
    }
   ],
   "source": [
    "df.head()"
   ],
   "metadata": {
    "collapsed": false
   }
  },
  {
   "cell_type": "code",
   "execution_count": 87,
   "outputs": [],
   "source": [
    "prot_words = ['black', 'white', 'asian', 'hisp', 'age', 'indian', 'other', 'male', 'female', 'minor']"
   ],
   "metadata": {
    "collapsed": false
   }
  },
  {
   "cell_type": "code",
   "execution_count": 88,
   "outputs": [
    {
     "data": {
      "text/plain": "['racepctblack',\n 'racePctWhite',\n 'racePctAsian',\n 'racePctHisp',\n 'agePct12t21',\n 'agePct12t29',\n 'agePct16t24',\n 'agePct65up',\n 'pctWWage',\n 'whitePerCap',\n 'blackPerCap',\n 'indianPerCap',\n 'AsianPerCap',\n 'HispPerCap',\n 'MalePctDivorce',\n 'MalePctNevMarr',\n 'FemalePctDiv',\n 'black']"
     },
     "execution_count": 88,
     "metadata": {},
     "output_type": "execute_result"
    }
   ],
   "source": [
    "protected_columns = list(filter(lambda x: any([word in x.lower() for word in prot_words]), df.columns))\n",
    "protected_columns"
   ],
   "metadata": {
    "collapsed": false
   }
  },
  {
   "cell_type": "markdown",
   "source": [
    "### Explore how to convert target variable"
   ],
   "metadata": {
    "collapsed": false
   }
  },
  {
   "cell_type": "code",
   "execution_count": 32,
   "outputs": [
    {
     "data": {
      "text/plain": "count    1994.000000\nmean        0.237979\nstd         0.232985\nmin         0.000000\n25%         0.070000\n50%         0.150000\n75%         0.330000\nmax         1.000000\nName: ViolentCrimesPerPop, dtype: float64"
     },
     "execution_count": 32,
     "metadata": {},
     "output_type": "execute_result"
    }
   ],
   "source": [
    "df['ViolentCrimesPerPop'].describe()"
   ],
   "metadata": {
    "collapsed": false
   }
  },
  {
   "cell_type": "code",
   "execution_count": 49,
   "outputs": [],
   "source": [
    "THRES = 0.7"
   ],
   "metadata": {
    "collapsed": false
   }
  },
  {
   "cell_type": "code",
   "execution_count": 50,
   "outputs": [],
   "source": [
    "df['high-crime'] = (df['ViolentCrimesPerPop'] > THRES).astype(int)"
   ],
   "metadata": {
    "collapsed": false
   }
  },
  {
   "cell_type": "code",
   "execution_count": 51,
   "outputs": [],
   "source": [
    "df['black'] = (df['racepctblack'] > 0.06).astype(int)\n",
    "protected_columns += ['black']"
   ],
   "metadata": {
    "collapsed": false
   }
  },
  {
   "cell_type": "code",
   "execution_count": 69,
   "outputs": [],
   "source": [
    "df_not_protected = df.loc[:, list(map(lambda c: c not in protected_columns, df.columns))]"
   ],
   "metadata": {
    "collapsed": false
   }
  },
  {
   "cell_type": "code",
   "execution_count": 35,
   "outputs": [],
   "source": [
    "from sklearn.model_selection import train_test_split\n",
    "from sklearn.linear_model import LogisticRegression\n",
    "from sklearn.ensemble import RandomForestClassifier\n",
    "from sklearn.metrics import accuracy_score"
   ],
   "metadata": {
    "collapsed": false
   }
  },
  {
   "cell_type": "code",
   "execution_count": 70,
   "outputs": [],
   "source": [
    "X_train, X_test, y_train, y_test = train_test_split(df_not_protected.iloc[:, :-2].to_numpy(),\n",
    "                                                    df_not_protected.iloc[:, -1].to_numpy(),\n",
    "                                                    test_size=0.2)"
   ],
   "metadata": {
    "collapsed": false
   }
  },
  {
   "cell_type": "code",
   "execution_count": 72,
   "outputs": [
    {
     "data": {
      "text/plain": "LogisticRegression(max_iter=10000)"
     },
     "execution_count": 72,
     "metadata": {},
     "output_type": "execute_result"
    }
   ],
   "source": [
    "\n",
    "model = LogisticRegression(max_iter=10000)\n",
    "model.fit(X_train, y_train)\n"
   ],
   "metadata": {
    "collapsed": false
   }
  },
  {
   "cell_type": "code",
   "execution_count": 73,
   "outputs": [
    {
     "data": {
      "text/plain": "0.9624060150375939"
     },
     "execution_count": 73,
     "metadata": {},
     "output_type": "execute_result"
    }
   ],
   "source": [
    "\n",
    "y_pred = model.predict(X_test)\n",
    "acc = accuracy_score(y_test, y_pred)\n",
    "\n",
    "acc"
   ],
   "metadata": {
    "collapsed": false
   }
  },
  {
   "cell_type": "code",
   "execution_count": 74,
   "outputs": [
    {
     "data": {
      "text/plain": "(0.1134020618556701, 0.005859375)"
     },
     "execution_count": 74,
     "metadata": {},
     "output_type": "execute_result"
    }
   ],
   "source": [
    "df.loc[df['black'] == 1, 'high-crime'].mean(), df.loc[df['black'] != 1, 'high-crime'].mean()"
   ],
   "metadata": {
    "collapsed": false
   }
  },
  {
   "cell_type": "code",
   "execution_count": 75,
   "outputs": [
    {
     "data": {
      "text/plain": "(0.9482758620689655, 0.4579339723109691)"
     },
     "execution_count": 75,
     "metadata": {},
     "output_type": "execute_result"
    }
   ],
   "source": [
    "df.loc[df['high-crime'] == 1, 'black'].mean(), df.loc[df['high-crime'] != 1, 'black'].mean()"
   ],
   "metadata": {
    "collapsed": false
   }
  },
  {
   "cell_type": "markdown",
   "source": [
    "#### Export"
   ],
   "metadata": {
    "collapsed": false
   }
  },
  {
   "cell_type": "code",
   "execution_count": 76,
   "outputs": [
    {
     "data": {
      "text/plain": "Index(['population', 'householdsize', 'racepctblack', 'racePctWhite',\n       'racePctAsian', 'racePctHisp', 'agePct12t21', 'agePct12t29',\n       'agePct16t24', 'agePct65up',\n       ...\n       'PctSameHouse85', 'PctSameCity85', 'PctSameState85', 'LandArea',\n       'PopDens', 'PctUsePubTrans', 'LemasPctOfficDrugUn',\n       'ViolentCrimesPerPop', 'high-crime', 'black'],\n      dtype='object', length=102)"
     },
     "execution_count": 76,
     "metadata": {},
     "output_type": "execute_result"
    }
   ],
   "source": [
    "df.columns"
   ],
   "metadata": {
    "collapsed": false
   }
  },
  {
   "cell_type": "code",
   "execution_count": 82,
   "outputs": [],
   "source": [
    "df_to_export = df[list(df.columns[:-3])+[df.columns[-1]]+[df.columns[-2]]]"
   ],
   "metadata": {
    "collapsed": false
   }
  },
  {
   "cell_type": "code",
   "execution_count": 83,
   "outputs": [
    {
     "data": {
      "text/plain": "   population  householdsize  racepctblack  racePctWhite  racePctAsian  \\\n0        0.19           0.33          0.02          0.90          0.12   \n1        0.00           0.16          0.12          0.74          0.45   \n2        0.00           0.42          0.49          0.56          0.17   \n3        0.04           0.77          1.00          0.08          0.12   \n4        0.01           0.55          0.02          0.95          0.09   \n\n   racePctHisp  agePct12t21  agePct12t29  agePct16t24  agePct65up  ...  \\\n0         0.17         0.34         0.47         0.29        0.32  ...   \n1         0.07         0.26         0.59         0.35        0.27  ...   \n2         0.04         0.39         0.47         0.28        0.32  ...   \n3         0.10         0.51         0.50         0.34        0.21  ...   \n4         0.05         0.38         0.38         0.23        0.36  ...   \n\n   PctBornSameState  PctSameHouse85  PctSameCity85  PctSameState85  LandArea  \\\n0              0.42            0.50           0.51            0.64      0.12   \n1              0.50            0.34           0.60            0.52      0.02   \n2              0.49            0.54           0.67            0.56      0.01   \n3              0.30            0.73           0.64            0.65      0.02   \n4              0.72            0.64           0.61            0.53      0.04   \n\n   PopDens  PctUsePubTrans  LemasPctOfficDrugUn  black  high-crime  \n0     0.26            0.20                 0.32      0           0  \n1     0.12            0.45                 0.00      1           0  \n2     0.21            0.02                 0.00      1           0  \n3     0.39            0.28                 0.00      1           0  \n4     0.09            0.02                 0.00      0           0  \n\n[5 rows x 101 columns]",
      "text/html": "<div>\n<style scoped>\n    .dataframe tbody tr th:only-of-type {\n        vertical-align: middle;\n    }\n\n    .dataframe tbody tr th {\n        vertical-align: top;\n    }\n\n    .dataframe thead th {\n        text-align: right;\n    }\n</style>\n<table border=\"1\" class=\"dataframe\">\n  <thead>\n    <tr style=\"text-align: right;\">\n      <th></th>\n      <th>population</th>\n      <th>householdsize</th>\n      <th>racepctblack</th>\n      <th>racePctWhite</th>\n      <th>racePctAsian</th>\n      <th>racePctHisp</th>\n      <th>agePct12t21</th>\n      <th>agePct12t29</th>\n      <th>agePct16t24</th>\n      <th>agePct65up</th>\n      <th>...</th>\n      <th>PctBornSameState</th>\n      <th>PctSameHouse85</th>\n      <th>PctSameCity85</th>\n      <th>PctSameState85</th>\n      <th>LandArea</th>\n      <th>PopDens</th>\n      <th>PctUsePubTrans</th>\n      <th>LemasPctOfficDrugUn</th>\n      <th>black</th>\n      <th>high-crime</th>\n    </tr>\n  </thead>\n  <tbody>\n    <tr>\n      <th>0</th>\n      <td>0.19</td>\n      <td>0.33</td>\n      <td>0.02</td>\n      <td>0.90</td>\n      <td>0.12</td>\n      <td>0.17</td>\n      <td>0.34</td>\n      <td>0.47</td>\n      <td>0.29</td>\n      <td>0.32</td>\n      <td>...</td>\n      <td>0.42</td>\n      <td>0.50</td>\n      <td>0.51</td>\n      <td>0.64</td>\n      <td>0.12</td>\n      <td>0.26</td>\n      <td>0.20</td>\n      <td>0.32</td>\n      <td>0</td>\n      <td>0</td>\n    </tr>\n    <tr>\n      <th>1</th>\n      <td>0.00</td>\n      <td>0.16</td>\n      <td>0.12</td>\n      <td>0.74</td>\n      <td>0.45</td>\n      <td>0.07</td>\n      <td>0.26</td>\n      <td>0.59</td>\n      <td>0.35</td>\n      <td>0.27</td>\n      <td>...</td>\n      <td>0.50</td>\n      <td>0.34</td>\n      <td>0.60</td>\n      <td>0.52</td>\n      <td>0.02</td>\n      <td>0.12</td>\n      <td>0.45</td>\n      <td>0.00</td>\n      <td>1</td>\n      <td>0</td>\n    </tr>\n    <tr>\n      <th>2</th>\n      <td>0.00</td>\n      <td>0.42</td>\n      <td>0.49</td>\n      <td>0.56</td>\n      <td>0.17</td>\n      <td>0.04</td>\n      <td>0.39</td>\n      <td>0.47</td>\n      <td>0.28</td>\n      <td>0.32</td>\n      <td>...</td>\n      <td>0.49</td>\n      <td>0.54</td>\n      <td>0.67</td>\n      <td>0.56</td>\n      <td>0.01</td>\n      <td>0.21</td>\n      <td>0.02</td>\n      <td>0.00</td>\n      <td>1</td>\n      <td>0</td>\n    </tr>\n    <tr>\n      <th>3</th>\n      <td>0.04</td>\n      <td>0.77</td>\n      <td>1.00</td>\n      <td>0.08</td>\n      <td>0.12</td>\n      <td>0.10</td>\n      <td>0.51</td>\n      <td>0.50</td>\n      <td>0.34</td>\n      <td>0.21</td>\n      <td>...</td>\n      <td>0.30</td>\n      <td>0.73</td>\n      <td>0.64</td>\n      <td>0.65</td>\n      <td>0.02</td>\n      <td>0.39</td>\n      <td>0.28</td>\n      <td>0.00</td>\n      <td>1</td>\n      <td>0</td>\n    </tr>\n    <tr>\n      <th>4</th>\n      <td>0.01</td>\n      <td>0.55</td>\n      <td>0.02</td>\n      <td>0.95</td>\n      <td>0.09</td>\n      <td>0.05</td>\n      <td>0.38</td>\n      <td>0.38</td>\n      <td>0.23</td>\n      <td>0.36</td>\n      <td>...</td>\n      <td>0.72</td>\n      <td>0.64</td>\n      <td>0.61</td>\n      <td>0.53</td>\n      <td>0.04</td>\n      <td>0.09</td>\n      <td>0.02</td>\n      <td>0.00</td>\n      <td>0</td>\n      <td>0</td>\n    </tr>\n  </tbody>\n</table>\n<p>5 rows × 101 columns</p>\n</div>"
     },
     "execution_count": 83,
     "metadata": {},
     "output_type": "execute_result"
    }
   ],
   "source": [
    "df_to_export.head()"
   ],
   "metadata": {
    "collapsed": false
   }
  },
  {
   "cell_type": "code",
   "execution_count": 84,
   "outputs": [],
   "source": [
    "df_to_export.to_csv('../data/communities-crime/communities-crime-processed.csv', index=False)"
   ],
   "metadata": {
    "collapsed": false
   }
  },
  {
   "cell_type": "markdown",
   "source": [
    "# START HERE IF ALREADY PROCESSED"
   ],
   "metadata": {
    "collapsed": false
   }
  },
  {
   "cell_type": "code",
   "execution_count": 85,
   "outputs": [],
   "source": [
    "df = pd.read_csv('../data/communities-crime/communities-crime-processed.csv')"
   ],
   "metadata": {
    "collapsed": false
   }
  },
  {
   "cell_type": "code",
   "execution_count": 86,
   "outputs": [
    {
     "data": {
      "text/plain": "   population  householdsize  racepctblack  racePctWhite  racePctAsian  \\\n0        0.19           0.33          0.02          0.90          0.12   \n1        0.00           0.16          0.12          0.74          0.45   \n2        0.00           0.42          0.49          0.56          0.17   \n3        0.04           0.77          1.00          0.08          0.12   \n4        0.01           0.55          0.02          0.95          0.09   \n\n   racePctHisp  agePct12t21  agePct12t29  agePct16t24  agePct65up  ...  \\\n0         0.17         0.34         0.47         0.29        0.32  ...   \n1         0.07         0.26         0.59         0.35        0.27  ...   \n2         0.04         0.39         0.47         0.28        0.32  ...   \n3         0.10         0.51         0.50         0.34        0.21  ...   \n4         0.05         0.38         0.38         0.23        0.36  ...   \n\n   PctBornSameState  PctSameHouse85  PctSameCity85  PctSameState85  LandArea  \\\n0              0.42            0.50           0.51            0.64      0.12   \n1              0.50            0.34           0.60            0.52      0.02   \n2              0.49            0.54           0.67            0.56      0.01   \n3              0.30            0.73           0.64            0.65      0.02   \n4              0.72            0.64           0.61            0.53      0.04   \n\n   PopDens  PctUsePubTrans  LemasPctOfficDrugUn  black  high-crime  \n0     0.26            0.20                 0.32      0           0  \n1     0.12            0.45                 0.00      1           0  \n2     0.21            0.02                 0.00      1           0  \n3     0.39            0.28                 0.00      1           0  \n4     0.09            0.02                 0.00      0           0  \n\n[5 rows x 101 columns]",
      "text/html": "<div>\n<style scoped>\n    .dataframe tbody tr th:only-of-type {\n        vertical-align: middle;\n    }\n\n    .dataframe tbody tr th {\n        vertical-align: top;\n    }\n\n    .dataframe thead th {\n        text-align: right;\n    }\n</style>\n<table border=\"1\" class=\"dataframe\">\n  <thead>\n    <tr style=\"text-align: right;\">\n      <th></th>\n      <th>population</th>\n      <th>householdsize</th>\n      <th>racepctblack</th>\n      <th>racePctWhite</th>\n      <th>racePctAsian</th>\n      <th>racePctHisp</th>\n      <th>agePct12t21</th>\n      <th>agePct12t29</th>\n      <th>agePct16t24</th>\n      <th>agePct65up</th>\n      <th>...</th>\n      <th>PctBornSameState</th>\n      <th>PctSameHouse85</th>\n      <th>PctSameCity85</th>\n      <th>PctSameState85</th>\n      <th>LandArea</th>\n      <th>PopDens</th>\n      <th>PctUsePubTrans</th>\n      <th>LemasPctOfficDrugUn</th>\n      <th>black</th>\n      <th>high-crime</th>\n    </tr>\n  </thead>\n  <tbody>\n    <tr>\n      <th>0</th>\n      <td>0.19</td>\n      <td>0.33</td>\n      <td>0.02</td>\n      <td>0.90</td>\n      <td>0.12</td>\n      <td>0.17</td>\n      <td>0.34</td>\n      <td>0.47</td>\n      <td>0.29</td>\n      <td>0.32</td>\n      <td>...</td>\n      <td>0.42</td>\n      <td>0.50</td>\n      <td>0.51</td>\n      <td>0.64</td>\n      <td>0.12</td>\n      <td>0.26</td>\n      <td>0.20</td>\n      <td>0.32</td>\n      <td>0</td>\n      <td>0</td>\n    </tr>\n    <tr>\n      <th>1</th>\n      <td>0.00</td>\n      <td>0.16</td>\n      <td>0.12</td>\n      <td>0.74</td>\n      <td>0.45</td>\n      <td>0.07</td>\n      <td>0.26</td>\n      <td>0.59</td>\n      <td>0.35</td>\n      <td>0.27</td>\n      <td>...</td>\n      <td>0.50</td>\n      <td>0.34</td>\n      <td>0.60</td>\n      <td>0.52</td>\n      <td>0.02</td>\n      <td>0.12</td>\n      <td>0.45</td>\n      <td>0.00</td>\n      <td>1</td>\n      <td>0</td>\n    </tr>\n    <tr>\n      <th>2</th>\n      <td>0.00</td>\n      <td>0.42</td>\n      <td>0.49</td>\n      <td>0.56</td>\n      <td>0.17</td>\n      <td>0.04</td>\n      <td>0.39</td>\n      <td>0.47</td>\n      <td>0.28</td>\n      <td>0.32</td>\n      <td>...</td>\n      <td>0.49</td>\n      <td>0.54</td>\n      <td>0.67</td>\n      <td>0.56</td>\n      <td>0.01</td>\n      <td>0.21</td>\n      <td>0.02</td>\n      <td>0.00</td>\n      <td>1</td>\n      <td>0</td>\n    </tr>\n    <tr>\n      <th>3</th>\n      <td>0.04</td>\n      <td>0.77</td>\n      <td>1.00</td>\n      <td>0.08</td>\n      <td>0.12</td>\n      <td>0.10</td>\n      <td>0.51</td>\n      <td>0.50</td>\n      <td>0.34</td>\n      <td>0.21</td>\n      <td>...</td>\n      <td>0.30</td>\n      <td>0.73</td>\n      <td>0.64</td>\n      <td>0.65</td>\n      <td>0.02</td>\n      <td>0.39</td>\n      <td>0.28</td>\n      <td>0.00</td>\n      <td>1</td>\n      <td>0</td>\n    </tr>\n    <tr>\n      <th>4</th>\n      <td>0.01</td>\n      <td>0.55</td>\n      <td>0.02</td>\n      <td>0.95</td>\n      <td>0.09</td>\n      <td>0.05</td>\n      <td>0.38</td>\n      <td>0.38</td>\n      <td>0.23</td>\n      <td>0.36</td>\n      <td>...</td>\n      <td>0.72</td>\n      <td>0.64</td>\n      <td>0.61</td>\n      <td>0.53</td>\n      <td>0.04</td>\n      <td>0.09</td>\n      <td>0.02</td>\n      <td>0.00</td>\n      <td>0</td>\n      <td>0</td>\n    </tr>\n  </tbody>\n</table>\n<p>5 rows × 101 columns</p>\n</div>"
     },
     "execution_count": 86,
     "metadata": {},
     "output_type": "execute_result"
    }
   ],
   "source": [
    "df.head()"
   ],
   "metadata": {
    "collapsed": false
   }
  },
  {
   "cell_type": "code",
   "execution_count": 89,
   "outputs": [
    {
     "data": {
      "text/plain": "racepctblack      float64\nracePctWhite      float64\nracePctAsian      float64\nracePctHisp       float64\nagePct12t21       float64\nagePct12t29       float64\nagePct16t24       float64\nagePct65up        float64\npctWWage          float64\nwhitePerCap       float64\nblackPerCap       float64\nindianPerCap      float64\nAsianPerCap       float64\nHispPerCap        float64\nMalePctDivorce    float64\nMalePctNevMarr    float64\nFemalePctDiv      float64\nblack               int64\ndtype: object"
     },
     "execution_count": 89,
     "metadata": {},
     "output_type": "execute_result"
    }
   ],
   "source": [
    "df[protected_columns].dtypes"
   ],
   "metadata": {
    "collapsed": false
   }
  },
  {
   "cell_type": "code",
   "execution_count": null,
   "outputs": [],
   "source": [],
   "metadata": {
    "collapsed": false
   }
  }
 ],
 "metadata": {
  "kernelspec": {
   "display_name": "Python 3",
   "language": "python",
   "name": "python3"
  },
  "language_info": {
   "codemirror_mode": {
    "name": "ipython",
    "version": 2
   },
   "file_extension": ".py",
   "mimetype": "text/x-python",
   "name": "python",
   "nbconvert_exporter": "python",
   "pygments_lexer": "ipython2",
   "version": "2.7.6"
  }
 },
 "nbformat": 4,
 "nbformat_minor": 0
}

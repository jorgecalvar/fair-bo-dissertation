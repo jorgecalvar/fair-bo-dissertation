{
 "cells": [
  {
   "cell_type": "code",
   "execution_count": 1,
   "metadata": {
    "collapsed": true
   },
   "outputs": [],
   "source": [
    "import pandas as pd\n",
    "import numpy as np"
   ]
  },
  {
   "cell_type": "markdown",
   "source": [
    "### Process *Communities and Crime* dataset"
   ],
   "metadata": {
    "collapsed": false
   }
  },
  {
   "cell_type": "code",
   "execution_count": 3,
   "outputs": [],
   "source": [
    "columns = ['state',\n",
    "           'county',\n",
    "           'community',\n",
    "           'communityname',\n",
    "           'fold',\n",
    "           'population',\n",
    "           'householdsize',\n",
    "           'racepctblack',\n",
    "           'racePctWhite',\n",
    "           'racePctAsian',\n",
    "           'racePctHisp',\n",
    "           'agePct12t21',\n",
    "           'agePct12t29',\n",
    "           'agePct16t24',\n",
    "           'agePct65up',\n",
    "           'numbUrban',\n",
    "           'pctUrban',\n",
    "           'medIncome',\n",
    "           'pctWWage',\n",
    "           'pctWFarmSelf',\n",
    "           'pctWInvInc',\n",
    "           'pctWSocSec',\n",
    "           'pctWPubAsst',\n",
    "           'pctWRetire',\n",
    "           'medFamInc',\n",
    "           'perCapInc',\n",
    "           'whitePerCap',\n",
    "           'blackPerCap',\n",
    "           'indianPerCap',\n",
    "           'AsianPerCap',\n",
    "           'OtherPerCap',\n",
    "           'HispPerCap',\n",
    "           'NumUnderPov',\n",
    "           'PctPopUnderPov',\n",
    "           'PctLess9thGrade',\n",
    "           'PctNotHSGrad',\n",
    "           'PctBSorMore',\n",
    "           'PctUnemployed',\n",
    "           'PctEmploy',\n",
    "           'PctEmplManu',\n",
    "           'PctEmplProfServ',\n",
    "           'PctOccupManu',\n",
    "           'PctOccupMgmtProf',\n",
    "           'MalePctDivorce',\n",
    "           'MalePctNevMarr',\n",
    "           'FemalePctDiv',\n",
    "           'TotalPctDiv',\n",
    "           'PersPerFam',\n",
    "           'PctFam2Par',\n",
    "           'PctKids2Par',\n",
    "           'PctYoungKids2Par',\n",
    "           'PctTeen2Par',\n",
    "           'PctWorkMomYoungKids',\n",
    "           'PctWorkMom',\n",
    "           'NumIlleg',\n",
    "           'PctIlleg',\n",
    "           'NumImmig',\n",
    "           'PctImmigRecent',\n",
    "           'PctImmigRec5',\n",
    "           'PctImmigRec8',\n",
    "           'PctImmigRec10',\n",
    "           'PctRecentImmig',\n",
    "           'PctRecImmig5',\n",
    "           'PctRecImmig8',\n",
    "           'PctRecImmig10',\n",
    "           'PctSpeakEnglOnly',\n",
    "           'PctNotSpeakEnglWell',\n",
    "           'PctLargHouseFam',\n",
    "           'PctLargHouseOccup',\n",
    "           'PersPerOccupHous',\n",
    "           'PersPerOwnOccHous',\n",
    "           'PersPerRentOccHous',\n",
    "           'PctPersOwnOccup',\n",
    "           'PctPersDenseHous',\n",
    "           'PctHousLess3BR',\n",
    "           'MedNumBR',\n",
    "           'HousVacant',\n",
    "           'PctHousOccup',\n",
    "           'PctHousOwnOcc',\n",
    "           'PctVacantBoarded',\n",
    "           'PctVacMore6Mos',\n",
    "           'MedYrHousBuilt',\n",
    "           'PctHousNoPhone',\n",
    "           'PctWOFullPlumb',\n",
    "           'OwnOccLowQuart',\n",
    "           'OwnOccMedVal',\n",
    "           'OwnOccHiQuart',\n",
    "           'RentLowQ',\n",
    "           'RentMedian',\n",
    "           'RentHighQ',\n",
    "           'MedRent',\n",
    "           'MedRentPctHousInc',\n",
    "           'MedOwnCostPctInc',\n",
    "           'MedOwnCostPctIncNoMtg',\n",
    "           'NumInShelters',\n",
    "           'NumStreet',\n",
    "           'PctForeignBorn',\n",
    "           'PctBornSameState',\n",
    "           'PctSameHouse85',\n",
    "           'PctSameCity85',\n",
    "           'PctSameState85',\n",
    "           'LemasSwornFT',\n",
    "           'LemasSwFTPerPop',\n",
    "           'LemasSwFTFieldOps',\n",
    "           'LemasSwFTFieldPerPop',\n",
    "           'LemasTotalReq',\n",
    "           'LemasTotReqPerPop',\n",
    "           'PolicReqPerOffic',\n",
    "           'PolicPerPop',\n",
    "           'RacialMatchCommPol',\n",
    "           'PctPolicWhite',\n",
    "           'PctPolicBlack',\n",
    "           'PctPolicHisp',\n",
    "           'PctPolicAsian',\n",
    "           'PctPolicMinor',\n",
    "           'OfficAssgnDrugUnits',\n",
    "           'NumKindsDrugsSeiz',\n",
    "           'PolicAveOTWorked',\n",
    "           'LandArea',\n",
    "           'PopDens',\n",
    "           'PctUsePubTrans',\n",
    "           'PolicCars',\n",
    "           'PolicOperBudg',\n",
    "           'LemasPctPolicOnPatr',\n",
    "           'LemasGangUnitDeploy',\n",
    "           'LemasPctOfficDrugUn',\n",
    "           'PolicBudgPerPop',\n",
    "           'ViolentCrimesPerPop']"
   ],
   "metadata": {
    "collapsed": false
   }
  },
  {
   "cell_type": "code",
   "execution_count": 4,
   "outputs": [],
   "source": [
    "df = pd.read_csv('../data/communities-crime/communities.data', names=columns, sep=',')\n",
    "df = df.applymap(lambda x: np.nan if x == '?' else x)"
   ],
   "metadata": {
    "collapsed": false
   }
  },
  {
   "cell_type": "code",
   "execution_count": 6,
   "outputs": [
    {
     "data": {
      "text/plain": "['county',\n 'community',\n 'OtherPerCap',\n 'LemasSwornFT',\n 'LemasSwFTPerPop',\n 'LemasSwFTFieldOps',\n 'LemasSwFTFieldPerPop',\n 'LemasTotalReq',\n 'LemasTotReqPerPop',\n 'PolicReqPerOffic',\n 'PolicPerPop',\n 'RacialMatchCommPol',\n 'PctPolicWhite',\n 'PctPolicBlack',\n 'PctPolicHisp',\n 'PctPolicAsian',\n 'PctPolicMinor',\n 'OfficAssgnDrugUnits',\n 'NumKindsDrugsSeiz',\n 'PolicAveOTWorked',\n 'PolicCars',\n 'PolicOperBudg',\n 'LemasPctPolicOnPatr',\n 'LemasGangUnitDeploy',\n 'PolicBudgPerPop',\n 'fold']"
     },
     "execution_count": 6,
     "metadata": {},
     "output_type": "execute_result"
    }
   ],
   "source": [
    "columns_with_nan = list(df.columns[df.isna().any()])\n",
    "columns_to_remove = columns_with_nan + ['fold']\n",
    "columns_to_remove"
   ],
   "metadata": {
    "collapsed": false
   }
  },
  {
   "cell_type": "code",
   "execution_count": null,
   "outputs": [],
   "source": [
    "df = df.drop(columns=columns_to_remove)"
   ],
   "metadata": {
    "collapsed": false
   }
  },
  {
   "cell_type": "code",
   "execution_count": null,
   "outputs": [],
   "source": [
    "prot_words = ['black', 'white', 'asian', 'hisp', 'age']"
   ],
   "metadata": {
    "collapsed": false
   }
  },
  {
   "cell_type": "code",
   "execution_count": null,
   "outputs": [],
   "source": [],
   "metadata": {
    "collapsed": false
   }
  }
 ],
 "metadata": {
  "kernelspec": {
   "display_name": "Python 3",
   "language": "python",
   "name": "python3"
  },
  "language_info": {
   "codemirror_mode": {
    "name": "ipython",
    "version": 2
   },
   "file_extension": ".py",
   "mimetype": "text/x-python",
   "name": "python",
   "nbconvert_exporter": "python",
   "pygments_lexer": "ipython2",
   "version": "2.7.6"
  }
 },
 "nbformat": 4,
 "nbformat_minor": 0
}

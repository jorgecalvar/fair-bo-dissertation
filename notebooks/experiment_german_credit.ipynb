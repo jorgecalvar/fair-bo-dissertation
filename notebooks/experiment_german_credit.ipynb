{
 "cells": [
  {
   "cell_type": "code",
   "execution_count": 1,
   "metadata": {
    "collapsed": true
   },
   "outputs": [],
   "source": [
    "import pandas as pd"
   ]
  },
  {
   "cell_type": "code",
   "execution_count": 2,
   "outputs": [
    {
     "data": {
      "text/plain": "'C:\\\\Users\\\\jorge\\\\OneDrive - Universidad Pontificia Comillas\\\\TFG - BA\\\\fair-bo-dissertation\\\\notebooks'"
     },
     "execution_count": 2,
     "metadata": {},
     "output_type": "execute_result"
    }
   ],
   "source": [
    "import os\n",
    "os.getcwd()"
   ],
   "metadata": {
    "collapsed": false
   }
  },
  {
   "cell_type": "code",
   "execution_count": 7,
   "outputs": [],
   "source": [
    "columns = ['checking-balance',\n",
    "           'duration',\n",
    "           'credit-history',\n",
    "           'purpose',\n",
    "           'credit-amount',\n",
    "           'savings-balance',\n",
    "           'employed-since',\n",
    "           'installment-rate',\n",
    "           'personal-info',\n",
    "           'debtors',\n",
    "           'residence-since',\n",
    "           'property',\n",
    "           'age',\n",
    "           'other-installment-plans',\n",
    "           'housing',\n",
    "           'n-credit-cards',\n",
    "           'job',\n",
    "           'n-people-liable',\n",
    "           'telephone',\n",
    "           'foreign-worker',\n",
    "           'target']"
   ],
   "metadata": {
    "collapsed": false
   }
  },
  {
   "cell_type": "code",
   "execution_count": 9,
   "outputs": [],
   "source": [
    "df = pd.read_csv('../data/german-credit-data/german.data', names=columns, sep=' ')"
   ],
   "metadata": {
    "collapsed": false
   }
  },
  {
   "cell_type": "code",
   "execution_count": 10,
   "outputs": [
    {
     "data": {
      "text/plain": "  checking-balance  duration credit-history purpose  credit-amount  \\\n0              A11         6            A34     A43           1169   \n1              A12        48            A32     A43           5951   \n2              A14        12            A34     A46           2096   \n3              A11        42            A32     A42           7882   \n4              A11        24            A33     A40           4870   \n\n  savings-balance employed-since  installment-rate personal-info debtors  ...  \\\n0             A65            A75                 4           A93    A101  ...   \n1             A61            A73                 2           A92    A101  ...   \n2             A61            A74                 2           A93    A101  ...   \n3             A61            A74                 2           A93    A103  ...   \n4             A61            A73                 3           A93    A101  ...   \n\n   property age  other-installment-plans housing n-credit-cards   job  \\\n0      A121  67                     A143    A152              2  A173   \n1      A121  22                     A143    A152              1  A173   \n2      A121  49                     A143    A152              1  A172   \n3      A122  45                     A143    A153              1  A173   \n4      A124  53                     A143    A153              2  A173   \n\n  n-people-liable  telephone foreign-worker target  \n0               1       A192           A201      1  \n1               1       A191           A201      2  \n2               2       A191           A201      1  \n3               2       A191           A201      1  \n4               2       A191           A201      2  \n\n[5 rows x 21 columns]",
      "text/html": "<div>\n<style scoped>\n    .dataframe tbody tr th:only-of-type {\n        vertical-align: middle;\n    }\n\n    .dataframe tbody tr th {\n        vertical-align: top;\n    }\n\n    .dataframe thead th {\n        text-align: right;\n    }\n</style>\n<table border=\"1\" class=\"dataframe\">\n  <thead>\n    <tr style=\"text-align: right;\">\n      <th></th>\n      <th>checking-balance</th>\n      <th>duration</th>\n      <th>credit-history</th>\n      <th>purpose</th>\n      <th>credit-amount</th>\n      <th>savings-balance</th>\n      <th>employed-since</th>\n      <th>installment-rate</th>\n      <th>personal-info</th>\n      <th>debtors</th>\n      <th>...</th>\n      <th>property</th>\n      <th>age</th>\n      <th>other-installment-plans</th>\n      <th>housing</th>\n      <th>n-credit-cards</th>\n      <th>job</th>\n      <th>n-people-liable</th>\n      <th>telephone</th>\n      <th>foreign-worker</th>\n      <th>target</th>\n    </tr>\n  </thead>\n  <tbody>\n    <tr>\n      <th>0</th>\n      <td>A11</td>\n      <td>6</td>\n      <td>A34</td>\n      <td>A43</td>\n      <td>1169</td>\n      <td>A65</td>\n      <td>A75</td>\n      <td>4</td>\n      <td>A93</td>\n      <td>A101</td>\n      <td>...</td>\n      <td>A121</td>\n      <td>67</td>\n      <td>A143</td>\n      <td>A152</td>\n      <td>2</td>\n      <td>A173</td>\n      <td>1</td>\n      <td>A192</td>\n      <td>A201</td>\n      <td>1</td>\n    </tr>\n    <tr>\n      <th>1</th>\n      <td>A12</td>\n      <td>48</td>\n      <td>A32</td>\n      <td>A43</td>\n      <td>5951</td>\n      <td>A61</td>\n      <td>A73</td>\n      <td>2</td>\n      <td>A92</td>\n      <td>A101</td>\n      <td>...</td>\n      <td>A121</td>\n      <td>22</td>\n      <td>A143</td>\n      <td>A152</td>\n      <td>1</td>\n      <td>A173</td>\n      <td>1</td>\n      <td>A191</td>\n      <td>A201</td>\n      <td>2</td>\n    </tr>\n    <tr>\n      <th>2</th>\n      <td>A14</td>\n      <td>12</td>\n      <td>A34</td>\n      <td>A46</td>\n      <td>2096</td>\n      <td>A61</td>\n      <td>A74</td>\n      <td>2</td>\n      <td>A93</td>\n      <td>A101</td>\n      <td>...</td>\n      <td>A121</td>\n      <td>49</td>\n      <td>A143</td>\n      <td>A152</td>\n      <td>1</td>\n      <td>A172</td>\n      <td>2</td>\n      <td>A191</td>\n      <td>A201</td>\n      <td>1</td>\n    </tr>\n    <tr>\n      <th>3</th>\n      <td>A11</td>\n      <td>42</td>\n      <td>A32</td>\n      <td>A42</td>\n      <td>7882</td>\n      <td>A61</td>\n      <td>A74</td>\n      <td>2</td>\n      <td>A93</td>\n      <td>A103</td>\n      <td>...</td>\n      <td>A122</td>\n      <td>45</td>\n      <td>A143</td>\n      <td>A153</td>\n      <td>1</td>\n      <td>A173</td>\n      <td>2</td>\n      <td>A191</td>\n      <td>A201</td>\n      <td>1</td>\n    </tr>\n    <tr>\n      <th>4</th>\n      <td>A11</td>\n      <td>24</td>\n      <td>A33</td>\n      <td>A40</td>\n      <td>4870</td>\n      <td>A61</td>\n      <td>A73</td>\n      <td>3</td>\n      <td>A93</td>\n      <td>A101</td>\n      <td>...</td>\n      <td>A124</td>\n      <td>53</td>\n      <td>A143</td>\n      <td>A153</td>\n      <td>2</td>\n      <td>A173</td>\n      <td>2</td>\n      <td>A191</td>\n      <td>A201</td>\n      <td>2</td>\n    </tr>\n  </tbody>\n</table>\n<p>5 rows × 21 columns</p>\n</div>"
     },
     "execution_count": 10,
     "metadata": {},
     "output_type": "execute_result"
    }
   ],
   "source": [
    "df.head()"
   ],
   "metadata": {
    "collapsed": false
   }
  },
  {
   "cell_type": "code",
   "execution_count": 11,
   "outputs": [
    {
     "data": {
      "text/plain": "checking-balance           object\nduration                    int64\ncredit-history             object\npurpose                    object\ncredit-amount               int64\nsavings-balance            object\nemployed-since             object\ninstallment-rate            int64\npersonal-info              object\ndebtors                    object\nresidence-since             int64\nproperty                   object\nage                         int64\nother-installment-plans    object\nhousing                    object\nn-credit-cards              int64\njob                        object\nn-people-liable             int64\ntelephone                  object\nforeign-worker             object\ntarget                      int64\ndtype: object"
     },
     "execution_count": 11,
     "metadata": {},
     "output_type": "execute_result"
    }
   ],
   "source": [
    "df.dtypes"
   ],
   "metadata": {
    "collapsed": false
   }
  },
  {
   "cell_type": "code",
   "execution_count": 12,
   "outputs": [],
   "source": [
    "def convert_personal_info(x):\n",
    "    if x == 'A91':\n",
    "        return 'male', 'non-single'\n",
    "    if x == 'A92':\n",
    "        return 'female', 'non-single',\n",
    "    if x == 'A93':\n",
    "        return 'male', 'single'\n",
    "    if x == 'A94':\n",
    "        return 'male', 'non-single'\n",
    "    if x == 'A95':\n",
    "        return 'female', 'single'"
   ],
   "metadata": {
    "collapsed": false
   }
  },
  {
   "cell_type": "code",
   "execution_count": 13,
   "outputs": [],
   "source": [
    "df['sex'] = df['personal-info'].apply(lambda x: convert_personal_info(x)[0])"
   ],
   "metadata": {
    "collapsed": false
   }
  },
  {
   "cell_type": "code",
   "execution_count": 14,
   "outputs": [],
   "source": [
    "df['marital-status'] = df['personal-info'].apply(lambda x: convert_personal_info(x)[1])"
   ],
   "metadata": {
    "collapsed": false
   }
  },
  {
   "cell_type": "code",
   "execution_count": 15,
   "outputs": [
    {
     "data": {
      "text/plain": "  checking-balance  duration credit-history purpose  credit-amount  \\\n0              A11         6            A34     A43           1169   \n1              A12        48            A32     A43           5951   \n2              A14        12            A34     A46           2096   \n3              A11        42            A32     A42           7882   \n4              A11        24            A33     A40           4870   \n\n  savings-balance employed-since  installment-rate personal-info debtors  ...  \\\n0             A65            A75                 4           A93    A101  ...   \n1             A61            A73                 2           A92    A101  ...   \n2             A61            A74                 2           A93    A101  ...   \n3             A61            A74                 2           A93    A103  ...   \n4             A61            A73                 3           A93    A101  ...   \n\n   other-installment-plans housing  n-credit-cards   job n-people-liable  \\\n0                     A143    A152               2  A173               1   \n1                     A143    A152               1  A173               1   \n2                     A143    A152               1  A172               2   \n3                     A143    A153               1  A173               2   \n4                     A143    A153               2  A173               2   \n\n   telephone foreign-worker  target     sex marital-status  \n0       A192           A201       1    male         single  \n1       A191           A201       2  female     non-single  \n2       A191           A201       1    male         single  \n3       A191           A201       1    male         single  \n4       A191           A201       2    male         single  \n\n[5 rows x 23 columns]",
      "text/html": "<div>\n<style scoped>\n    .dataframe tbody tr th:only-of-type {\n        vertical-align: middle;\n    }\n\n    .dataframe tbody tr th {\n        vertical-align: top;\n    }\n\n    .dataframe thead th {\n        text-align: right;\n    }\n</style>\n<table border=\"1\" class=\"dataframe\">\n  <thead>\n    <tr style=\"text-align: right;\">\n      <th></th>\n      <th>checking-balance</th>\n      <th>duration</th>\n      <th>credit-history</th>\n      <th>purpose</th>\n      <th>credit-amount</th>\n      <th>savings-balance</th>\n      <th>employed-since</th>\n      <th>installment-rate</th>\n      <th>personal-info</th>\n      <th>debtors</th>\n      <th>...</th>\n      <th>other-installment-plans</th>\n      <th>housing</th>\n      <th>n-credit-cards</th>\n      <th>job</th>\n      <th>n-people-liable</th>\n      <th>telephone</th>\n      <th>foreign-worker</th>\n      <th>target</th>\n      <th>sex</th>\n      <th>marital-status</th>\n    </tr>\n  </thead>\n  <tbody>\n    <tr>\n      <th>0</th>\n      <td>A11</td>\n      <td>6</td>\n      <td>A34</td>\n      <td>A43</td>\n      <td>1169</td>\n      <td>A65</td>\n      <td>A75</td>\n      <td>4</td>\n      <td>A93</td>\n      <td>A101</td>\n      <td>...</td>\n      <td>A143</td>\n      <td>A152</td>\n      <td>2</td>\n      <td>A173</td>\n      <td>1</td>\n      <td>A192</td>\n      <td>A201</td>\n      <td>1</td>\n      <td>male</td>\n      <td>single</td>\n    </tr>\n    <tr>\n      <th>1</th>\n      <td>A12</td>\n      <td>48</td>\n      <td>A32</td>\n      <td>A43</td>\n      <td>5951</td>\n      <td>A61</td>\n      <td>A73</td>\n      <td>2</td>\n      <td>A92</td>\n      <td>A101</td>\n      <td>...</td>\n      <td>A143</td>\n      <td>A152</td>\n      <td>1</td>\n      <td>A173</td>\n      <td>1</td>\n      <td>A191</td>\n      <td>A201</td>\n      <td>2</td>\n      <td>female</td>\n      <td>non-single</td>\n    </tr>\n    <tr>\n      <th>2</th>\n      <td>A14</td>\n      <td>12</td>\n      <td>A34</td>\n      <td>A46</td>\n      <td>2096</td>\n      <td>A61</td>\n      <td>A74</td>\n      <td>2</td>\n      <td>A93</td>\n      <td>A101</td>\n      <td>...</td>\n      <td>A143</td>\n      <td>A152</td>\n      <td>1</td>\n      <td>A172</td>\n      <td>2</td>\n      <td>A191</td>\n      <td>A201</td>\n      <td>1</td>\n      <td>male</td>\n      <td>single</td>\n    </tr>\n    <tr>\n      <th>3</th>\n      <td>A11</td>\n      <td>42</td>\n      <td>A32</td>\n      <td>A42</td>\n      <td>7882</td>\n      <td>A61</td>\n      <td>A74</td>\n      <td>2</td>\n      <td>A93</td>\n      <td>A103</td>\n      <td>...</td>\n      <td>A143</td>\n      <td>A153</td>\n      <td>1</td>\n      <td>A173</td>\n      <td>2</td>\n      <td>A191</td>\n      <td>A201</td>\n      <td>1</td>\n      <td>male</td>\n      <td>single</td>\n    </tr>\n    <tr>\n      <th>4</th>\n      <td>A11</td>\n      <td>24</td>\n      <td>A33</td>\n      <td>A40</td>\n      <td>4870</td>\n      <td>A61</td>\n      <td>A73</td>\n      <td>3</td>\n      <td>A93</td>\n      <td>A101</td>\n      <td>...</td>\n      <td>A143</td>\n      <td>A153</td>\n      <td>2</td>\n      <td>A173</td>\n      <td>2</td>\n      <td>A191</td>\n      <td>A201</td>\n      <td>2</td>\n      <td>male</td>\n      <td>single</td>\n    </tr>\n  </tbody>\n</table>\n<p>5 rows × 23 columns</p>\n</div>"
     },
     "execution_count": 15,
     "metadata": {},
     "output_type": "execute_result"
    }
   ],
   "source": [
    "df.head()"
   ],
   "metadata": {
    "collapsed": false
   }
  },
  {
   "cell_type": "code",
   "execution_count": 16,
   "outputs": [],
   "source": [
    "del df['personal-info']"
   ],
   "metadata": {
    "collapsed": false
   }
  },
  {
   "cell_type": "code",
   "execution_count": 28,
   "outputs": [],
   "source": [
    "df = df[list(df.columns[df.columns != 'target']) + ['target']]"
   ],
   "metadata": {
    "collapsed": false
   }
  },
  {
   "cell_type": "code",
   "execution_count": 29,
   "outputs": [],
   "source": [
    "df.to_csv('../data/german-credit-data/german-credit-processed.csv', index=False)"
   ],
   "metadata": {
    "collapsed": false
   }
  },
  {
   "cell_type": "code",
   "execution_count": null,
   "outputs": [],
   "source": [],
   "metadata": {
    "collapsed": false
   }
  }
 ],
 "metadata": {
  "kernelspec": {
   "display_name": "Python 3",
   "language": "python",
   "name": "python3"
  },
  "language_info": {
   "codemirror_mode": {
    "name": "ipython",
    "version": 2
   },
   "file_extension": ".py",
   "mimetype": "text/x-python",
   "name": "python",
   "nbconvert_exporter": "python",
   "pygments_lexer": "ipython2",
   "version": "2.7.6"
  }
 },
 "nbformat": 4,
 "nbformat_minor": 0
}
